
{
 "cells": [
  {
   "cell_type": "code",
   "execution_count": 30,
   "id": "47ecfb03-af39-443f-848e-54a44a228ea4",
   "metadata": {
    "tags": []
   },
   "outputs": [],
   "source": [
    "dollar_per_kwh=0.09\n",
    "peak_kw_per_gpu=1\n",
    "typical_gpu_load=0.5\n",
    "ngpu=4000\n",
    "hours_per_year=365*24\n",
    "mghpcc_pue=1.23"
   ]
  },
  {
   "cell_type": "code",
   "execution_count": 7,
   "id": "51b16b3c-c347-4d91-b36f-67da549f5d61",
   "metadata": {
    "tags": []
   },
   "outputs": [],
   "source": [
    "kwh_per_year_per_gpu=hours_per_year*peak_kw_per_gpu*typical_gpu_util*mghpcc_pue\n",
    "kwh_total=kwh_per_year_per_gpu*ngpu\n",
    "electricity_cost=kwh_total*dollar_per_kwh"
   ]
  },
  {
   "cell_type": "code",
   "execution_count": 28,
   "id": "bae61d12-9afe-46e6-9a13-741e9fe03902",
   "metadata": {
    "tags": []
   },
   "outputs": [
    {
     "name": "stdout",
     "output_type": "stream",
     "text": [
      "Annual electricity cost = $1.94M\n"
     ]
    }
   ],
   "source": [
    "print(\"Annual electricity cost = $%2.2fM\"%(electricity_cost/1e6))"
   ]
  },
  {
   "cell_type": "code",
   "execution_count": null,
   "id": "dc1c1b71-e9b4-44c6-9d3c-58316ef83473",
   "metadata": {},
   "outputs": [],
   "source": []
  }
 ],
 "metadata": {
  "kernelspec": {
   "display_name": "Python 3 (ipykernel)",
   "language": "python",
   "name": "python3"
  },
  "language_info": {
   "codemirror_mode": {
    "name": "ipython",
    "version": 3
   },
   "file_extension": ".py",
   "mimetype": "text/x-python",
   "name": "python",
   "nbconvert_exporter": "python",
   "pygments_lexer": "ipython3",
   "version": "3.11.3"
  }
 },
 "nbformat": 4,
 "nbformat_minor": 5
}
